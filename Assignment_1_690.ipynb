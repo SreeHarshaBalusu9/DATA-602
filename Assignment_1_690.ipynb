{
  "nbformat": 4,
  "nbformat_minor": 0,
  "metadata": {
    "colab": {
      "name": "Assignment_1_690.ipynb",
      "provenance": []
    },
    "kernelspec": {
      "name": "python3",
      "display_name": "Python 3"
    },
    "language_info": {
      "name": "python"
    }
  },
  "cells": [
    {
      "cell_type": "code",
      "execution_count": 11,
      "metadata": {
        "colab": {
          "base_uri": "https://localhost:8080/"
        },
        "id": "1qbwhIQXOLTz",
        "outputId": "b3eeed5d-f2fd-4f96-b520-00567613f721"
      },
      "outputs": [
        {
          "name": "stdout",
          "output_type": "stream",
          "text": [
            "Enter your name:Sree Harsha\n"
          ]
        }
      ],
      "source": [
        "name=input(\"Enter your name:\")"
      ]
    },
    {
      "cell_type": "code",
      "source": [
        "number=int(input(\"Enter an integer:\"))"
      ],
      "metadata": {
        "colab": {
          "base_uri": "https://localhost:8080/"
        },
        "id": "7m6PAU-tOr6_",
        "outputId": "adee8244-0f4d-47f4-f664-54a1230fa3ea"
      },
      "execution_count": 12,
      "outputs": [
        {
          "name": "stdout",
          "output_type": "stream",
          "text": [
            "Enter an integer:6\n"
          ]
        }
      ]
    },
    {
      "cell_type": "code",
      "source": [
        "i=1\n",
        "while(i<=number):\n",
        "  print(name)\n",
        "  i=i+1\n"
      ],
      "metadata": {
        "colab": {
          "base_uri": "https://localhost:8080/"
        },
        "id": "1YwMtGxIPFQF",
        "outputId": "176555a4-ed1d-4315-9449-26d4c5f69e0b"
      },
      "execution_count": 13,
      "outputs": [
        {
          "output_type": "stream",
          "name": "stdout",
          "text": [
            "Sree Harsha\n",
            "Sree Harsha\n",
            "Sree Harsha\n",
            "Sree Harsha\n",
            "Sree Harsha\n",
            "Sree Harsha\n"
          ]
        }
      ]
    },
    {
      "cell_type": "code",
      "source": [
        ""
      ],
      "metadata": {
        "id": "iY23CzCiPwuo"
      },
      "execution_count": null,
      "outputs": []
    }
  ]
}